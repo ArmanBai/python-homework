{
 "cells": [
  {
   "cell_type": "code",
   "execution_count": 4,
   "id": "97a8f29e-49fc-4033-9ef2-32782f03bb03",
   "metadata": {},
   "outputs": [],
   "source": [
    "text = ('Good Morning') "
   ]
  },
  {
   "cell_type": "code",
   "execution_count": 5,
   "id": "90b33574-8e82-49ee-b6cc-88f09c2ddfef",
   "metadata": {},
   "outputs": [
    {
     "name": "stdout",
     "output_type": "stream",
     "text": [
      "Good Morning\n"
     ]
    }
   ],
   "source": [
    "print(text)"
   ]
  },
  {
   "cell_type": "code",
   "execution_count": 6,
   "id": "6b866956-4fb3-4cb9-b98a-300b188af5d1",
   "metadata": {},
   "outputs": [],
   "source": [
    "text = ('Доброе Утро')"
   ]
  },
  {
   "cell_type": "code",
   "execution_count": 7,
   "id": "97fb64df-ad73-4a8c-b333-3c0cf85b6a31",
   "metadata": {},
   "outputs": [
    {
     "name": "stdout",
     "output_type": "stream",
     "text": [
      "Доброе Утро\n"
     ]
    }
   ],
   "source": [
    "print(text)"
   ]
  },
  {
   "cell_type": "code",
   "execution_count": 11,
   "id": "ac676cfc-91fb-4193-865c-0a252351cf9f",
   "metadata": {},
   "outputs": [],
   "source": [
    "first_name = \"Арман\"\n",
    "last_name = \"Байгутдинов\""
   ]
  },
  {
   "cell_type": "code",
   "execution_count": 12,
   "id": "432143c0-18eb-481b-85a8-6fc187121249",
   "metadata": {},
   "outputs": [],
   "source": [
    "full_name = first_name + \" \" + last_name"
   ]
  },
  {
   "cell_type": "code",
   "execution_count": 13,
   "id": "f4147b68-a2eb-4293-a817-5dcdd0091626",
   "metadata": {},
   "outputs": [
    {
     "name": "stdout",
     "output_type": "stream",
     "text": [
      "арман байгутдинов\n"
     ]
    }
   ],
   "source": [
    "print(full_name.lower())"
   ]
  },
  {
   "cell_type": "code",
   "execution_count": 14,
   "id": "9f2db54f-f7f1-4f5b-99b1-3d9b8897fbe7",
   "metadata": {},
   "outputs": [
    {
     "name": "stdout",
     "output_type": "stream",
     "text": [
      "АРМАН БАЙГУТДИНОВ\n"
     ]
    }
   ],
   "source": [
    "print(full_name.upper())"
   ]
  },
  {
   "cell_type": "code",
   "execution_count": 15,
   "id": "761843dc-4434-4c41-ab04-a66fe4d934fa",
   "metadata": {},
   "outputs": [
    {
     "name": "stdout",
     "output_type": "stream",
     "text": [
      "Арман Байгутдинов\n"
     ]
    }
   ],
   "source": [
    "print(full_name.title())"
   ]
  },
  {
   "cell_type": "code",
   "execution_count": 22,
   "id": "74374b3e-28d1-4f23-93ca-8a332f19d7ae",
   "metadata": {},
   "outputs": [
    {
     "name": "stdout",
     "output_type": "stream",
     "text": [
      "А\n",
      "\tр\n",
      "\t\tм\n",
      "\t\t\n",
      "\t\t\ta\n",
      "\t\t\t\tн\n"
     ]
    }
   ],
   "source": [
    "print(\"А\\n\\tр\\n\\t\\tм\\n\\t\\t\\n\\t\\t\\ta\\n\\t\\t\\t\\tн\")"
   ]
  },
  {
   "cell_type": "code",
   "execution_count": 29,
   "id": "75312cdb-2a7b-4b21-9fff-8248893a8072",
   "metadata": {},
   "outputs": [],
   "source": [
    "favorite_number = 777"
   ]
  },
  {
   "cell_type": "code",
   "execution_count": 30,
   "id": "9f6be5fb-2887-41f5-a2a3-a77ed831eb58",
   "metadata": {},
   "outputs": [
    {
     "name": "stdout",
     "output_type": "stream",
     "text": [
      "Мое любимое число: 777\n"
     ]
    }
   ],
   "source": [
    "print(\"Мое любимое число:\", favorite_number)"
   ]
  },
  {
   "cell_type": "code",
   "execution_count": 34,
   "id": "7218bf38-68f5-4c7f-9290-1b9751af0c35",
   "metadata": {},
   "outputs": [
    {
     "name": "stdout",
     "output_type": "stream",
     "text": [
      "8\n"
     ]
    }
   ],
   "source": [
    "print(5 + 3)"
   ]
  },
  {
   "cell_type": "code",
   "execution_count": 35,
   "id": "2db6fc93-5095-433f-8c31-23974d0fbf7b",
   "metadata": {},
   "outputs": [
    {
     "name": "stdout",
     "output_type": "stream",
     "text": [
      "8\n"
     ]
    }
   ],
   "source": [
    "print(10 - 2)"
   ]
  },
  {
   "cell_type": "code",
   "execution_count": 36,
   "id": "0c00b343-572c-4435-98c4-a549a67e3875",
   "metadata": {},
   "outputs": [
    {
     "name": "stdout",
     "output_type": "stream",
     "text": [
      "8\n"
     ]
    }
   ],
   "source": [
    "print(4 * 2)"
   ]
  },
  {
   "cell_type": "code",
   "execution_count": 37,
   "id": "37d3b8b7-3367-43fb-bcc4-ceb32225481d",
   "metadata": {},
   "outputs": [
    {
     "name": "stdout",
     "output_type": "stream",
     "text": [
      "8.0\n"
     ]
    }
   ],
   "source": [
    "print(16 / 2)"
   ]
  },
  {
   "cell_type": "code",
   "execution_count": null,
   "id": "ab83ca7e-eeb4-4011-8e43-d0f0719bb612",
   "metadata": {},
   "outputs": [],
   "source": []
  }
 ],
 "metadata": {
  "kernelspec": {
   "display_name": "Python [conda env:base] *",
   "language": "python",
   "name": "conda-base-py"
  },
  "language_info": {
   "codemirror_mode": {
    "name": "ipython",
    "version": 3
   },
   "file_extension": ".py",
   "mimetype": "text/x-python",
   "name": "python",
   "nbconvert_exporter": "python",
   "pygments_lexer": "ipython3",
   "version": "3.12.7"
  }
 },
 "nbformat": 4,
 "nbformat_minor": 5
}
